{
 "cells": [
  {
   "cell_type": "markdown",
   "id": "90fb8496",
   "metadata": {
    "papermill": {
     "duration": 0.021592,
     "end_time": "2022-09-28T16:59:32.242129",
     "exception": false,
     "start_time": "2022-09-28T16:59:32.220537",
     "status": "completed"
    },
    "tags": []
   },
   "source": [
    "# <center>Problem Statement</center>\n",
    "\n",
    "### **Description:**\n",
    "\n",
    "A simple yet challenging project, to estimate the BMI based on the Gender, Height & Weight. The complexity arises due the fact that dataset has less samples, & is highly imbalanced. Can you overcome these obstacles & build a good predictive model to classify them?\n",
    "\n",
    "This data frame contains the following columns:\n",
    "\n",
    "Gender : Male / Female\n",
    "\n",
    "Height : Number (cm)\n",
    "\n",
    "Weight : Number (Kg)\n",
    "\n",
    "Index : 0 - Extremely Weak, 1 - Weak, 2 - Normal, 3 - Overweight, 4 - Obesity, 5 - Extreme Obesity\n",
    "\n",
    "### **Acknowledgements:**\n",
    "\n",
    "This dataset has been referred from Kaggle.\n",
    "\n",
    "### **Objective:**\n",
    "\n",
    "Understand the Dataset & cleanup (if required).\n",
    "Build classification models to predict various categories of BMI.\n",
    "Also fine-tune the hyperparameters & compare the evaluation metrics of various classification algorithms."
   ]
  },
  {
   "cell_type": "markdown",
   "id": "7aceba86",
   "metadata": {
    "papermill": {
     "duration": 0.017762,
     "end_time": "2022-09-28T16:59:32.315773",
     "exception": false,
     "start_time": "2022-09-28T16:59:32.298011",
     "status": "completed"
    },
    "tags": []
   },
   "source": [
    "# 1. Importing Required Libraries"
   ]
  },
  {
   "cell_type": "code",
   "execution_count": 1,
   "id": "bf4f4fff",
   "metadata": {
    "_cell_guid": "b1076dfc-b9ad-4769-8c92-a6c4dae69d19",
    "_uuid": "8f2839f25d086af736a60e9eeb907d3b93b6e0e5",
    "execution": {
     "iopub.execute_input": "2022-09-28T16:59:32.355082Z",
     "iopub.status.busy": "2022-09-28T16:59:32.354427Z",
     "iopub.status.idle": "2022-09-28T16:59:32.390934Z",
     "shell.execute_reply": "2022-09-28T16:59:32.389625Z"
    },
    "papermill": {
     "duration": 0.059381,
     "end_time": "2022-09-28T16:59:32.394744",
     "exception": false,
     "start_time": "2022-09-28T16:59:32.335363",
     "status": "completed"
    },
    "tags": []
   },
   "outputs": [],
   "source": [
    "%config Completer.use_jedi = False"
   ]
  },
  {
   "cell_type": "code",
   "execution_count": 2,
   "id": "6e6bfea3",
   "metadata": {
    "execution": {
     "iopub.execute_input": "2022-09-28T16:59:32.433491Z",
     "iopub.status.busy": "2022-09-28T16:59:32.432881Z",
     "iopub.status.idle": "2022-09-28T16:59:34.114383Z",
     "shell.execute_reply": "2022-09-28T16:59:34.112960Z"
    },
    "papermill": {
     "duration": 1.704549,
     "end_time": "2022-09-28T16:59:34.117873",
     "exception": false,
     "start_time": "2022-09-28T16:59:32.413324",
     "status": "completed"
    },
    "tags": []
   },
   "outputs": [],
   "source": [
    "# Import Basic Libraries\n",
    "import os\n",
    "import math\n",
    "import scipy\n",
    "import numpy as np\n",
    "import pandas as pd \n",
    "import seaborn as sns \n",
    "import matplotlib.pyplot as plt\n",
    "\n",
    "# From MatplotLib\n",
    "import matplotlib.pyplot as plt\n",
    "\n",
    "# From Scipy \n",
    "from scipy.stats import loguniform\n",
    "\n",
    "# From Sklearn\n",
    "from sklearn.tree import DecisionTreeClassifier\n",
    "from sklearn.ensemble import RandomForestClassifier\n",
    "from sklearn.linear_model import LogisticRegression\n",
    "from sklearn.neighbors import KNeighborsClassifier\n",
    "from sklearn.linear_model import LogisticRegression\n",
    "from sklearn.linear_model import LinearRegression\n",
    "\n",
    "from sklearn import tree\n",
    "from sklearn.svm import SVC\n",
    "from sklearn.feature_selection import RFE\n",
    "from sklearn.preprocessing import StandardScaler\n",
    "from sklearn.model_selection import train_test_split\n",
    "from sklearn.feature_extraction.text import TfidfVectorizer\n",
    "from sklearn.model_selection import RandomizedSearchCV, RepeatedStratifiedKFold\n",
    "from sklearn.metrics import accuracy_score, confusion_matrix, precision_score, classification_report, f1_score\n",
    "\n",
    "# For SMOTE\n",
    "from imblearn.over_sampling import SMOTE\n",
    "\n",
    "import warnings \n",
    "warnings.filterwarnings('ignore')"
   ]
  },
  {
   "cell_type": "markdown",
   "id": "e791795b",
   "metadata": {
    "papermill": {
     "duration": 0.009686,
     "end_time": "2022-09-28T16:59:34.143420",
     "exception": false,
     "start_time": "2022-09-28T16:59:34.133734",
     "status": "completed"
    },
    "tags": []
   },
   "source": [
    "# 2. Data Exploration"
   ]
  },
  {
   "cell_type": "code",
   "execution_count": 3,
   "id": "eff5ea9a",
   "metadata": {
    "execution": {
     "iopub.execute_input": "2022-09-28T16:59:34.165073Z",
     "iopub.status.busy": "2022-09-28T16:59:34.164700Z",
     "iopub.status.idle": "2022-09-28T16:59:34.212889Z",
     "shell.execute_reply": "2022-09-28T16:59:34.211316Z"
    },
    "papermill": {
     "duration": 0.063109,
     "end_time": "2022-09-28T16:59:34.216678",
     "exception": false,
     "start_time": "2022-09-28T16:59:34.153569",
     "status": "completed"
    },
    "tags": []
   },
   "outputs": [
    {
     "data": {
      "text/html": [
       "<div>\n",
       "<style scoped>\n",
       "    .dataframe tbody tr th:only-of-type {\n",
       "        vertical-align: middle;\n",
       "    }\n",
       "\n",
       "    .dataframe tbody tr th {\n",
       "        vertical-align: top;\n",
       "    }\n",
       "\n",
       "    .dataframe thead th {\n",
       "        text-align: right;\n",
       "    }\n",
       "</style>\n",
       "<table border=\"1\" class=\"dataframe\">\n",
       "  <thead>\n",
       "    <tr style=\"text-align: right;\">\n",
       "      <th></th>\n",
       "      <th>Gender</th>\n",
       "      <th>Height</th>\n",
       "      <th>Weight</th>\n",
       "      <th>Index</th>\n",
       "      <th>Class</th>\n",
       "    </tr>\n",
       "  </thead>\n",
       "  <tbody>\n",
       "    <tr>\n",
       "      <th>0</th>\n",
       "      <td>Male</td>\n",
       "      <td>174</td>\n",
       "      <td>96</td>\n",
       "      <td>4</td>\n",
       "      <td>Obsesity</td>\n",
       "    </tr>\n",
       "    <tr>\n",
       "      <th>1</th>\n",
       "      <td>Male</td>\n",
       "      <td>189</td>\n",
       "      <td>87</td>\n",
       "      <td>2</td>\n",
       "      <td>Normal</td>\n",
       "    </tr>\n",
       "    <tr>\n",
       "      <th>2</th>\n",
       "      <td>Female</td>\n",
       "      <td>185</td>\n",
       "      <td>110</td>\n",
       "      <td>4</td>\n",
       "      <td>Obsesity</td>\n",
       "    </tr>\n",
       "    <tr>\n",
       "      <th>3</th>\n",
       "      <td>Female</td>\n",
       "      <td>195</td>\n",
       "      <td>104</td>\n",
       "      <td>3</td>\n",
       "      <td>Overweight</td>\n",
       "    </tr>\n",
       "    <tr>\n",
       "      <th>4</th>\n",
       "      <td>Male</td>\n",
       "      <td>149</td>\n",
       "      <td>61</td>\n",
       "      <td>3</td>\n",
       "      <td>Overweight</td>\n",
       "    </tr>\n",
       "  </tbody>\n",
       "</table>\n",
       "</div>"
      ],
      "text/plain": [
       "   Gender  Height  Weight  Index       Class\n",
       "0    Male     174      96      4    Obsesity\n",
       "1    Male     189      87      2      Normal\n",
       "2  Female     185     110      4    Obsesity\n",
       "3  Female     195     104      3  Overweight\n",
       "4    Male     149      61      3  Overweight"
      ]
     },
     "metadata": {},
     "output_type": "display_data"
    },
    {
     "name": "stdout",
     "output_type": "stream",
     "text": [
      "The Datset consists of 5 features & 500 samples.\n"
     ]
    }
   ],
   "source": [
    "df = pd.read_csv('../input/bmidataset/bmi.csv')\n",
    "\n",
    "labels = ['Extremely Weak','Weak','Normal','Overweight','Obsesity','Extreme Obesity']\n",
    "\n",
    "MAP={}\n",
    "for e, i in enumerate(sorted(df[\"Index\"].unique())):\n",
    "    MAP[i]=labels[e]\n",
    "    \n",
    "df[\"Class\"] = df[\"Index\"].map(MAP)\n",
    "\n",
    "display(df.head())\n",
    "\n",
    "print(f\"The Datset consists of {df.shape[1]} features & {df.shape[0]} samples.\")"
   ]
  },
  {
   "cell_type": "code",
   "execution_count": 4,
   "id": "60ba175a",
   "metadata": {
    "execution": {
     "iopub.execute_input": "2022-09-28T16:59:34.240703Z",
     "iopub.status.busy": "2022-09-28T16:59:34.239425Z",
     "iopub.status.idle": "2022-09-28T16:59:34.261308Z",
     "shell.execute_reply": "2022-09-28T16:59:34.259634Z"
    },
    "papermill": {
     "duration": 0.037995,
     "end_time": "2022-09-28T16:59:34.265221",
     "exception": false,
     "start_time": "2022-09-28T16:59:34.227226",
     "status": "completed"
    },
    "tags": []
   },
   "outputs": [
    {
     "name": "stdout",
     "output_type": "stream",
     "text": [
      "<class 'pandas.core.frame.DataFrame'>\n",
      "RangeIndex: 500 entries, 0 to 499\n",
      "Data columns (total 5 columns):\n",
      " #   Column  Non-Null Count  Dtype \n",
      "---  ------  --------------  ----- \n",
      " 0   Gender  500 non-null    object\n",
      " 1   Height  500 non-null    int64 \n",
      " 2   Weight  500 non-null    int64 \n",
      " 3   Index   500 non-null    int64 \n",
      " 4   Class   500 non-null    object\n",
      "dtypes: int64(3), object(2)\n",
      "memory usage: 19.7+ KB\n"
     ]
    }
   ],
   "source": [
    "# Checking the dtypes of all the columns\n",
    "\n",
    "df.info()"
   ]
  },
  {
   "cell_type": "code",
   "execution_count": 5,
   "id": "5e47f2c2",
   "metadata": {
    "execution": {
     "iopub.execute_input": "2022-09-28T16:59:34.287552Z",
     "iopub.status.busy": "2022-09-28T16:59:34.287132Z",
     "iopub.status.idle": "2022-09-28T16:59:34.299707Z",
     "shell.execute_reply": "2022-09-28T16:59:34.297929Z"
    },
    "papermill": {
     "duration": 0.028613,
     "end_time": "2022-09-28T16:59:34.303914",
     "exception": false,
     "start_time": "2022-09-28T16:59:34.275301",
     "status": "completed"
    },
    "tags": []
   },
   "outputs": [
    {
     "data": {
      "text/plain": [
       "Gender      2\n",
       "Index       6\n",
       "Class       6\n",
       "Height     60\n",
       "Weight    110\n",
       "dtype: int64"
      ]
     },
     "execution_count": 5,
     "metadata": {},
     "output_type": "execute_result"
    }
   ],
   "source": [
    "# Checking number of unique rows in each feature\n",
    "\n",
    "df.nunique().sort_values()"
   ]
  },
  {
   "cell_type": "code",
   "execution_count": 6,
   "id": "569072a6",
   "metadata": {
    "execution": {
     "iopub.execute_input": "2022-09-28T16:59:34.347220Z",
     "iopub.status.busy": "2022-09-28T16:59:34.346732Z",
     "iopub.status.idle": "2022-09-28T16:59:34.401726Z",
     "shell.execute_reply": "2022-09-28T16:59:34.399647Z"
    },
    "papermill": {
     "duration": 0.090353,
     "end_time": "2022-09-28T16:59:34.406965",
     "exception": false,
     "start_time": "2022-09-28T16:59:34.316612",
     "status": "completed"
    },
    "tags": []
   },
   "outputs": [
    {
     "data": {
      "text/html": [
       "<div>\n",
       "<style scoped>\n",
       "    .dataframe tbody tr th:only-of-type {\n",
       "        vertical-align: middle;\n",
       "    }\n",
       "\n",
       "    .dataframe tbody tr th {\n",
       "        vertical-align: top;\n",
       "    }\n",
       "\n",
       "    .dataframe thead th {\n",
       "        text-align: right;\n",
       "    }\n",
       "</style>\n",
       "<table border=\"1\" class=\"dataframe\">\n",
       "  <thead>\n",
       "    <tr style=\"text-align: right;\">\n",
       "      <th></th>\n",
       "      <th>Height</th>\n",
       "      <th>Weight</th>\n",
       "      <th>Index</th>\n",
       "    </tr>\n",
       "  </thead>\n",
       "  <tbody>\n",
       "    <tr>\n",
       "      <th>count</th>\n",
       "      <td>500.000000</td>\n",
       "      <td>500.000000</td>\n",
       "      <td>500.000000</td>\n",
       "    </tr>\n",
       "    <tr>\n",
       "      <th>mean</th>\n",
       "      <td>169.944000</td>\n",
       "      <td>106.000000</td>\n",
       "      <td>3.748000</td>\n",
       "    </tr>\n",
       "    <tr>\n",
       "      <th>std</th>\n",
       "      <td>16.375261</td>\n",
       "      <td>32.382607</td>\n",
       "      <td>1.355053</td>\n",
       "    </tr>\n",
       "    <tr>\n",
       "      <th>min</th>\n",
       "      <td>140.000000</td>\n",
       "      <td>50.000000</td>\n",
       "      <td>0.000000</td>\n",
       "    </tr>\n",
       "    <tr>\n",
       "      <th>25%</th>\n",
       "      <td>156.000000</td>\n",
       "      <td>80.000000</td>\n",
       "      <td>3.000000</td>\n",
       "    </tr>\n",
       "    <tr>\n",
       "      <th>50%</th>\n",
       "      <td>170.500000</td>\n",
       "      <td>106.000000</td>\n",
       "      <td>4.000000</td>\n",
       "    </tr>\n",
       "    <tr>\n",
       "      <th>75%</th>\n",
       "      <td>184.000000</td>\n",
       "      <td>136.000000</td>\n",
       "      <td>5.000000</td>\n",
       "    </tr>\n",
       "    <tr>\n",
       "      <th>max</th>\n",
       "      <td>199.000000</td>\n",
       "      <td>160.000000</td>\n",
       "      <td>5.000000</td>\n",
       "    </tr>\n",
       "  </tbody>\n",
       "</table>\n",
       "</div>"
      ],
      "text/plain": [
       "           Height      Weight       Index\n",
       "count  500.000000  500.000000  500.000000\n",
       "mean   169.944000  106.000000    3.748000\n",
       "std     16.375261   32.382607    1.355053\n",
       "min    140.000000   50.000000    0.000000\n",
       "25%    156.000000   80.000000    3.000000\n",
       "50%    170.500000  106.000000    4.000000\n",
       "75%    184.000000  136.000000    5.000000\n",
       "max    199.000000  160.000000    5.000000"
      ]
     },
     "metadata": {},
     "output_type": "display_data"
    }
   ],
   "source": [
    "# Checking the stats of all the columns\n",
    "\n",
    "display(df.describe())"
   ]
  },
  {
   "cell_type": "markdown",
   "id": "eb526f98",
   "metadata": {
    "papermill": {
     "duration": 0.030518,
     "end_time": "2022-09-28T16:59:34.459953",
     "exception": false,
     "start_time": "2022-09-28T16:59:34.429435",
     "status": "completed"
    },
    "tags": []
   },
   "source": [
    "# 3. Exploratory Data Analysis (EDA)"
   ]
  },
  {
   "cell_type": "code",
   "execution_count": 7,
   "id": "895603c1",
   "metadata": {
    "execution": {
     "iopub.execute_input": "2022-09-28T16:59:34.499856Z",
     "iopub.status.busy": "2022-09-28T16:59:34.499492Z",
     "iopub.status.idle": "2022-09-28T16:59:34.844161Z",
     "shell.execute_reply": "2022-09-28T16:59:34.842751Z"
    },
    "papermill": {
     "duration": 0.366961,
     "end_time": "2022-09-28T16:59:34.847852",
     "exception": false,
     "start_time": "2022-09-28T16:59:34.480891",
     "status": "completed"
    },
    "tags": []
   },
   "outputs": [
    {
     "data": {
      "image/png": "[encoded data removed]",
      "text/plain": [
       "<Figure size 432x288 with 1 Axes>"
      ]
     },
     "metadata": {},
     "output_type": "display_data"
    }
   ],
   "source": [
    "# Let us first analyze the distribution of the target variable\n",
    "\n",
    "plt.pie(df[\"Index\"].value_counts(), labels=df[\"Class\"].value_counts().index, counterclock=False, autopct='%1.1f%%', radius=2)\n",
    "plt.show()"
   ]
  },
  {
   "cell_type": "markdown",
   "id": "63fffc1d",
   "metadata": {
    "papermill": {
     "duration": 0.017684,
     "end_time": "2022-09-28T16:59:34.884087",
     "exception": false,
     "start_time": "2022-09-28T16:59:34.866403",
     "status": "completed"
    },
    "tags": []
   },
   "source": [
    "The Target Variable seems to be slightly imbalanced! Hence we shall try to perform data augmentation."
   ]
  },
  {
   "cell_type": "code",
   "execution_count": 8,
   "id": "bef1c1ed",
   "metadata": {
    "execution": {
     "iopub.execute_input": "2022-09-28T16:59:34.922424Z",
     "iopub.status.busy": "2022-09-28T16:59:34.921782Z",
     "iopub.status.idle": "2022-09-28T16:59:35.272993Z",
     "shell.execute_reply": "2022-09-28T16:59:35.271704Z"
    },
    "papermill": {
     "duration": 0.3745,
     "end_time": "2022-09-28T16:59:35.276631",
     "exception": false,
     "start_time": "2022-09-28T16:59:34.902131",
     "status": "completed"
    },
    "tags": []
   },
   "outputs": [
    {
     "data": {
      "image/png": "[encoded data removed]",
      "text/plain": [
       "<Figure size 432x288 with 1 Axes>"
      ]
     },
     "metadata": {
      "needs_background": "light"
     },
     "output_type": "display_data"
    }
   ],
   "source": [
    "# Visualising the categorical features \n",
    "\n",
    "sns.histplot(data=df, x=\"Gender\", hue=\"Gender\")\n",
    "plt.show()"
   ]
  },
  {
   "cell_type": "markdown",
   "id": "a0b046d6",
   "metadata": {
    "papermill": {
     "duration": 0.01695,
     "end_time": "2022-09-28T16:59:35.311673",
     "exception": false,
     "start_time": "2022-09-28T16:59:35.294723",
     "status": "completed"
    },
    "tags": []
   },
   "source": [
    "Visualizing the categorical features reveal lot of information about the dataset."
   ]
  },
  {
   "cell_type": "code",
   "execution_count": 9,
   "id": "5509998c",
   "metadata": {
    "execution": {
     "iopub.execute_input": "2022-09-28T16:59:35.346832Z",
     "iopub.status.busy": "2022-09-28T16:59:35.346288Z",
     "iopub.status.idle": "2022-09-28T16:59:35.862956Z",
     "shell.execute_reply": "2022-09-28T16:59:35.861655Z"
    },
    "papermill": {
     "duration": 0.537996,
     "end_time": "2022-09-28T16:59:35.866228",
     "exception": false,
     "start_time": "2022-09-28T16:59:35.328232",
     "status": "completed"
    },
    "tags": []
   },
   "outputs": [
    {
     "data": {
      "image/png": "[encoded data removed]",
      "text/plain": [
       "<Figure size 1080x360 with 2 Axes>"
      ]
     },
     "metadata": {
      "needs_background": "light"
     },
     "output_type": "display_data"
    }
   ],
   "source": [
    "# Visualizing with Box Plot \n",
    "\n",
    "fig, axes = plt.subplots(1, 2, figsize=(15, 5), sharey=True)\n",
    "\n",
    "sns.boxplot(ax=axes[0], data = df, hue=\"Gender\", x = \"Gender\", y = \"Height\")\n",
    "\n",
    "sns.boxplot(ax=axes[1], data = df, hue=\"Gender\", x = \"Gender\", y = \"Weight\")\n",
    "\n",
    "plt.show()"
   ]
  },
  {
   "cell_type": "code",
   "execution_count": 10,
   "id": "4f2ae453",
   "metadata": {
    "execution": {
     "iopub.execute_input": "2022-09-28T16:59:35.904744Z",
     "iopub.status.busy": "2022-09-28T16:59:35.904155Z",
     "iopub.status.idle": "2022-09-28T16:59:36.359697Z",
     "shell.execute_reply": "2022-09-28T16:59:36.358272Z"
    },
    "papermill": {
     "duration": 0.477197,
     "end_time": "2022-09-28T16:59:36.362474",
     "exception": false,
     "start_time": "2022-09-28T16:59:35.885277",
     "status": "completed"
    },
    "tags": []
   },
   "outputs": [
    {
     "data": {
      "image/png": "[encoded data removed]",
      "text/plain": [
       "<Figure size 1080x360 with 2 Axes>"
      ]
     },
     "metadata": {
      "needs_background": "light"
     },
     "output_type": "display_data"
    }
   ],
   "source": [
    "# Visualization with Dist Plot\n",
    "\n",
    "fig, axes = plt.subplots(1, 2, figsize=(15, 5), sharey=True)\n",
    "\n",
    "sns.distplot(ax=axes[0], a=df[\"Height\"])\n",
    "sns.distplot(ax=axes[1], a=df[\"Weight\"])\n",
    "\n",
    "plt.show()"
   ]
  },
  {
   "cell_type": "code",
   "execution_count": 11,
   "id": "e7ee556f",
   "metadata": {
    "execution": {
     "iopub.execute_input": "2022-09-28T16:59:36.388283Z",
     "iopub.status.busy": "2022-09-28T16:59:36.386818Z",
     "iopub.status.idle": "2022-09-28T16:59:38.723619Z",
     "shell.execute_reply": "2022-09-28T16:59:38.722096Z"
    },
    "papermill": {
     "duration": 2.354263,
     "end_time": "2022-09-28T16:59:38.728117",
     "exception": false,
     "start_time": "2022-09-28T16:59:36.373854",
     "status": "completed"
    },
    "tags": []
   },
   "outputs": [
    {
     "data": {
      "image/png": "[encoded data removed]",
      "text/plain": [
       "<Figure size 694.875x576 with 6 Axes>"
      ]
     },
     "metadata": {
      "needs_background": "light"
     },
     "output_type": "display_data"
    }
   ],
   "source": [
    "# Visualizing with Pairplot \n",
    "\n",
    "colors = [\"red\", \"blue\", \"orange\", \"green\", \"yellow\", \"brown\"]\n",
    "new_df = df.drop(labels=[\"Index\"], axis=1)\n",
    "\n",
    "pairplot = sns.pairplot(data=new_df, hue=\"Class\", size=4, palette=colors)\n",
    "pairplot.map_upper(sns.kdeplot, levels=1, color=\"1\")\n",
    "\n",
    "plt.show()"
   ]
  },
  {
   "cell_type": "markdown",
   "id": "e2abf24f",
   "metadata": {
    "papermill": {
     "duration": 0.013119,
     "end_time": "2022-09-28T16:59:38.755092",
     "exception": false,
     "start_time": "2022-09-28T16:59:38.741973",
     "status": "completed"
    },
    "tags": []
   },
   "source": [
    "The data samples of most of the features do show some patterns. Also they seem to have lot of overlap for the outcome classes, making it difficult to be distingusihable. Let is proceed to perform cleanup on the data to remove the irregularities."
   ]
  },
  {
   "cell_type": "markdown",
   "id": "263b5ddb",
   "metadata": {
    "papermill": {
     "duration": 0.013344,
     "end_time": "2022-09-28T16:59:38.781804",
     "exception": false,
     "start_time": "2022-09-28T16:59:38.768460",
     "status": "completed"
    },
    "tags": []
   },
   "source": [
    "# 3. Data Preprocessing"
   ]
  },
  {
   "cell_type": "code",
   "execution_count": 12,
   "id": "61a259b6",
   "metadata": {
    "execution": {
     "iopub.execute_input": "2022-09-28T16:59:38.811068Z",
     "iopub.status.busy": "2022-09-28T16:59:38.810682Z",
     "iopub.status.idle": "2022-09-28T16:59:38.822298Z",
     "shell.execute_reply": "2022-09-28T16:59:38.820629Z"
    },
    "papermill": {
     "duration": 0.029703,
     "end_time": "2022-09-28T16:59:38.825052",
     "exception": false,
     "start_time": "2022-09-28T16:59:38.795349",
     "status": "completed"
    },
    "tags": []
   },
   "outputs": [
    {
     "name": "stdout",
     "output_type": "stream",
     "text": [
      "The given dataset is having 11 duplicate entries.\n"
     ]
    }
   ],
   "source": [
    "# Remove Duplicates Entry\n",
    "r, c = df.shape\n",
    "\n",
    "df.drop_duplicates(inplace=True)\n",
    "\n",
    "if(df.shape == (r, c)):\n",
    "    print(\"The given set doesn't have any duplicates.\")\n",
    "else:\n",
    "    print(f\"The given dataset is having {r - df.shape[0]} duplicate entries.\")"
   ]
  },
  {
   "cell_type": "code",
   "execution_count": 13,
   "id": "6c36a567",
   "metadata": {
    "execution": {
     "iopub.execute_input": "2022-09-28T16:59:38.853649Z",
     "iopub.status.busy": "2022-09-28T16:59:38.852542Z",
     "iopub.status.idle": "2022-09-28T16:59:38.866635Z",
     "shell.execute_reply": "2022-09-28T16:59:38.865312Z"
    },
    "papermill": {
     "duration": 0.031456,
     "end_time": "2022-09-28T16:59:38.869347",
     "exception": false,
     "start_time": "2022-09-28T16:59:38.837891",
     "status": "completed"
    },
    "tags": []
   },
   "outputs": [
    {
     "data": {
      "text/html": [
       "<div>\n",
       "<style scoped>\n",
       "    .dataframe tbody tr th:only-of-type {\n",
       "        vertical-align: middle;\n",
       "    }\n",
       "\n",
       "    .dataframe tbody tr th {\n",
       "        vertical-align: top;\n",
       "    }\n",
       "\n",
       "    .dataframe thead th {\n",
       "        text-align: right;\n",
       "    }\n",
       "</style>\n",
       "<table border=\"1\" class=\"dataframe\">\n",
       "  <thead>\n",
       "    <tr style=\"text-align: right;\">\n",
       "      <th></th>\n",
       "      <th>Gender</th>\n",
       "      <th>Height</th>\n",
       "      <th>Weight</th>\n",
       "      <th>Index</th>\n",
       "    </tr>\n",
       "  </thead>\n",
       "  <tbody>\n",
       "    <tr>\n",
       "      <th>0</th>\n",
       "      <td>1</td>\n",
       "      <td>174</td>\n",
       "      <td>96</td>\n",
       "      <td>4</td>\n",
       "    </tr>\n",
       "    <tr>\n",
       "      <th>1</th>\n",
       "      <td>1</td>\n",
       "      <td>189</td>\n",
       "      <td>87</td>\n",
       "      <td>2</td>\n",
       "    </tr>\n",
       "    <tr>\n",
       "      <th>2</th>\n",
       "      <td>0</td>\n",
       "      <td>185</td>\n",
       "      <td>110</td>\n",
       "      <td>4</td>\n",
       "    </tr>\n",
       "    <tr>\n",
       "      <th>3</th>\n",
       "      <td>0</td>\n",
       "      <td>195</td>\n",
       "      <td>104</td>\n",
       "      <td>3</td>\n",
       "    </tr>\n",
       "    <tr>\n",
       "      <th>4</th>\n",
       "      <td>1</td>\n",
       "      <td>149</td>\n",
       "      <td>61</td>\n",
       "      <td>3</td>\n",
       "    </tr>\n",
       "  </tbody>\n",
       "</table>\n",
       "</div>"
      ],
      "text/plain": [
       "   Gender  Height  Weight  Index\n",
       "0       1     174      96      4\n",
       "1       1     189      87      2\n",
       "2       0     185     110      4\n",
       "3       0     195     104      3\n",
       "4       1     149      61      3"
      ]
     },
     "execution_count": 13,
     "metadata": {},
     "output_type": "execute_result"
    }
   ],
   "source": [
    "df = df.drop(labels=[\"Class\"], axis=1)\n",
    "df[\"Gender\"] = np.where(df[\"Gender\"] == \"Male\", 1, 0)\n",
    "\n",
    "df.head()"
   ]
  },
  {
   "cell_type": "code",
   "execution_count": 14,
   "id": "cf1fbad6",
   "metadata": {
    "execution": {
     "iopub.execute_input": "2022-09-28T16:59:38.899047Z",
     "iopub.status.busy": "2022-09-28T16:59:38.897878Z",
     "iopub.status.idle": "2022-09-28T16:59:38.905390Z",
     "shell.execute_reply": "2022-09-28T16:59:38.904196Z"
    },
    "papermill": {
     "duration": 0.025277,
     "end_time": "2022-09-28T16:59:38.908159",
     "exception": false,
     "start_time": "2022-09-28T16:59:38.882882",
     "status": "completed"
    },
    "tags": []
   },
   "outputs": [],
   "source": [
    "X = df.drop([\"Index\"], axis=1)\n",
    "Y = df[\"Index\"]"
   ]
  },
  {
   "cell_type": "code",
   "execution_count": 15,
   "id": "5e0412d1",
   "metadata": {
    "execution": {
     "iopub.execute_input": "2022-09-28T16:59:38.938064Z",
     "iopub.status.busy": "2022-09-28T16:59:38.936908Z",
     "iopub.status.idle": "2022-09-28T16:59:39.077927Z",
     "shell.execute_reply": "2022-09-28T16:59:39.076209Z"
    },
    "papermill": {
     "duration": 0.159695,
     "end_time": "2022-09-28T16:59:39.081108",
     "exception": false,
     "start_time": "2022-09-28T16:59:38.921413",
     "status": "completed"
    },
    "tags": []
   },
   "outputs": [
    {
     "name": "stdout",
     "output_type": "stream",
     "text": [
      "Class distribution after applying SMOTE Technique:  4    195\n",
      "2    195\n",
      "3    195\n",
      "5    195\n",
      "1    195\n",
      "0    195\n",
      "Name: Index, dtype: int64\n"
     ]
    }
   ],
   "source": [
    "smote = SMOTE()\n",
    "X, Y = smote.fit_resample(X, Y)\n",
    "\n",
    "df = pd.DataFrame(X, columns=df.columns)\n",
    "df[\"Index\"] = Y\n",
    "\n",
    "print('Class distribution after applying SMOTE Technique: ', Y.value_counts())"
   ]
  },
  {
   "cell_type": "markdown",
   "id": "a53d0645",
   "metadata": {
    "papermill": {
     "duration": 0.013673,
     "end_time": "2022-09-28T16:59:39.108550",
     "exception": false,
     "start_time": "2022-09-28T16:59:39.094877",
     "status": "completed"
    },
    "tags": []
   },
   "source": [
    "The final dataset after cleanup has 1170 samples & 4 columns."
   ]
  },
  {
   "cell_type": "markdown",
   "id": "e3742c73",
   "metadata": {
    "papermill": {
     "duration": 0.027018,
     "end_time": "2022-09-28T16:59:39.149412",
     "exception": false,
     "start_time": "2022-09-28T16:59:39.122394",
     "status": "completed"
    },
    "tags": []
   },
   "source": [
    "# 4. Data Manipulation"
   ]
  },
  {
   "cell_type": "code",
   "execution_count": 16,
   "id": "3a1941a7",
   "metadata": {
    "execution": {
     "iopub.execute_input": "2022-09-28T16:59:39.180257Z",
     "iopub.status.busy": "2022-09-28T16:59:39.179852Z",
     "iopub.status.idle": "2022-09-28T16:59:39.192298Z",
     "shell.execute_reply": "2022-09-28T16:59:39.190608Z"
    },
    "papermill": {
     "duration": 0.030343,
     "end_time": "2022-09-28T16:59:39.195091",
     "exception": false,
     "start_time": "2022-09-28T16:59:39.164748",
     "status": "completed"
    },
    "tags": []
   },
   "outputs": [
    {
     "name": "stdout",
     "output_type": "stream",
     "text": [
      "Original set  --->  (1170, 3) (1170,) \n",
      "Training set  --->  (936, 3) (936,) \n",
      "Testing set   --->  (234, 3)  (234,)\n"
     ]
    }
   ],
   "source": [
    "X = df.drop([\"Index\"], axis=1)\n",
    "Y = df[\"Index\"]\n",
    "\n",
    "x_train, x_test, y_train, y_test = train_test_split(X, Y, train_size=0.8, test_size=0.2, random_state=7)\n",
    "\n",
    "print('Original set  ---> ', X.shape, Y.shape,\n",
    "      '\\nTraining set  ---> ',x_train.shape, y_train.shape,\n",
    "      '\\nTesting set   ---> ', x_test.shape,'', y_test.shape)"
   ]
  },
  {
   "cell_type": "code",
   "execution_count": 17,
   "id": "e5d2809c",
   "metadata": {
    "execution": {
     "iopub.execute_input": "2022-09-28T16:59:39.223897Z",
     "iopub.status.busy": "2022-09-28T16:59:39.223574Z",
     "iopub.status.idle": "2022-09-28T16:59:39.257847Z",
     "shell.execute_reply": "2022-09-28T16:59:39.255173Z"
    },
    "papermill": {
     "duration": 0.052583,
     "end_time": "2022-09-28T16:59:39.260957",
     "exception": false,
     "start_time": "2022-09-28T16:59:39.208374",
     "status": "completed"
    },
    "tags": []
   },
   "outputs": [
    {
     "name": "stdout",
     "output_type": "stream",
     "text": [
      "\u001b[1m <-- Standardardization on Training set -->\n"
     ]
    },
    {
     "data": {
      "text/html": [
       "<div>\n",
       "<style scoped>\n",
       "    .dataframe tbody tr th:only-of-type {\n",
       "        vertical-align: middle;\n",
       "    }\n",
       "\n",
       "    .dataframe tbody tr th {\n",
       "        vertical-align: top;\n",
       "    }\n",
       "\n",
       "    .dataframe thead th {\n",
       "        text-align: right;\n",
       "    }\n",
       "</style>\n",
       "<table border=\"1\" class=\"dataframe\">\n",
       "  <thead>\n",
       "    <tr style=\"text-align: right;\">\n",
       "      <th></th>\n",
       "      <th>Gender</th>\n",
       "      <th>Height</th>\n",
       "      <th>Weight</th>\n",
       "    </tr>\n",
       "  </thead>\n",
       "  <tbody>\n",
       "    <tr>\n",
       "      <th>0</th>\n",
       "      <td>-0.746595</td>\n",
       "      <td>-0.587785</td>\n",
       "      <td>1.719697</td>\n",
       "    </tr>\n",
       "    <tr>\n",
       "      <th>1</th>\n",
       "      <td>1.339414</td>\n",
       "      <td>0.399947</td>\n",
       "      <td>1.688108</td>\n",
       "    </tr>\n",
       "    <tr>\n",
       "      <th>2</th>\n",
       "      <td>-0.746595</td>\n",
       "      <td>-0.587785</td>\n",
       "      <td>1.751285</td>\n",
       "    </tr>\n",
       "    <tr>\n",
       "      <th>3</th>\n",
       "      <td>1.339414</td>\n",
       "      <td>1.255982</td>\n",
       "      <td>1.024758</td>\n",
       "    </tr>\n",
       "    <tr>\n",
       "      <th>4</th>\n",
       "      <td>-0.746595</td>\n",
       "      <td>0.334098</td>\n",
       "      <td>-0.301943</td>\n",
       "    </tr>\n",
       "  </tbody>\n",
       "</table>\n",
       "</div>"
      ],
      "text/plain": [
       "     Gender    Height    Weight\n",
       "0 -0.746595 -0.587785  1.719697\n",
       "1  1.339414  0.399947  1.688108\n",
       "2 -0.746595 -0.587785  1.751285\n",
       "3  1.339414  1.255982  1.024758\n",
       "4 -0.746595  0.334098 -0.301943"
      ]
     },
     "metadata": {},
     "output_type": "display_data"
    },
    {
     "name": "stdout",
     "output_type": "stream",
     "text": [
      "\u001b[1m <-- Standardardization on Testing set -->\n"
     ]
    },
    {
     "data": {
      "text/html": [
       "<div>\n",
       "<style scoped>\n",
       "    .dataframe tbody tr th:only-of-type {\n",
       "        vertical-align: middle;\n",
       "    }\n",
       "\n",
       "    .dataframe tbody tr th {\n",
       "        vertical-align: top;\n",
       "    }\n",
       "\n",
       "    .dataframe thead th {\n",
       "        text-align: right;\n",
       "    }\n",
       "</style>\n",
       "<table border=\"1\" class=\"dataframe\">\n",
       "  <thead>\n",
       "    <tr style=\"text-align: right;\">\n",
       "      <th></th>\n",
       "      <th>Gender</th>\n",
       "      <th>Height</th>\n",
       "      <th>Weight</th>\n",
       "    </tr>\n",
       "  </thead>\n",
       "  <tbody>\n",
       "    <tr>\n",
       "      <th>0</th>\n",
       "      <td>1.339414</td>\n",
       "      <td>0.729191</td>\n",
       "      <td>-0.649413</td>\n",
       "    </tr>\n",
       "    <tr>\n",
       "      <th>1</th>\n",
       "      <td>1.339414</td>\n",
       "      <td>0.465796</td>\n",
       "      <td>-0.870530</td>\n",
       "    </tr>\n",
       "    <tr>\n",
       "      <th>2</th>\n",
       "      <td>1.339414</td>\n",
       "      <td>0.334098</td>\n",
       "      <td>2.098754</td>\n",
       "    </tr>\n",
       "    <tr>\n",
       "      <th>3</th>\n",
       "      <td>1.339414</td>\n",
       "      <td>0.926738</td>\n",
       "      <td>-1.091646</td>\n",
       "    </tr>\n",
       "    <tr>\n",
       "      <th>4</th>\n",
       "      <td>-0.746595</td>\n",
       "      <td>0.926738</td>\n",
       "      <td>-1.028470</td>\n",
       "    </tr>\n",
       "  </tbody>\n",
       "</table>\n",
       "</div>"
      ],
      "text/plain": [
       "     Gender    Height    Weight\n",
       "0  1.339414  0.729191 -0.649413\n",
       "1  1.339414  0.465796 -0.870530\n",
       "2  1.339414  0.334098  2.098754\n",
       "3  1.339414  0.926738 -1.091646\n",
       "4 -0.746595  0.926738 -1.028470"
      ]
     },
     "metadata": {},
     "output_type": "display_data"
    }
   ],
   "source": [
    "# Feature Scaling (Standardization)\n",
    "\n",
    "scaler = StandardScaler()\n",
    "\n",
    "print(\"\\033[1m <-- Standardardization on Training set -->\")\n",
    "x_train_scale = scaler.fit_transform(x_train)\n",
    "x_train_scale = pd.DataFrame(x_train_scale, columns=X.columns)\n",
    "display(x_train_scale.head())\n",
    "\n",
    "print(\"\\033[1m <-- Standardardization on Testing set -->\")\n",
    "x_test_scale = scaler.transform(x_test)\n",
    "x_test_scale = pd.DataFrame(x_test_scale, columns=X.columns)\n",
    "display(x_test_scale.head())"
   ]
  },
  {
   "cell_type": "markdown",
   "id": "957f64c9",
   "metadata": {
    "papermill": {
     "duration": 0.013671,
     "end_time": "2022-09-28T16:59:39.289178",
     "exception": false,
     "start_time": "2022-09-28T16:59:39.275507",
     "status": "completed"
    },
    "tags": []
   },
   "source": [
    "# 5. Model Training and Prediction"
   ]
  },
  {
   "cell_type": "code",
   "execution_count": 18,
   "id": "823c1a0d",
   "metadata": {
    "execution": {
     "iopub.execute_input": "2022-09-28T16:59:39.321252Z",
     "iopub.status.busy": "2022-09-28T16:59:39.320139Z",
     "iopub.status.idle": "2022-09-28T16:59:39.335921Z",
     "shell.execute_reply": "2022-09-28T16:59:39.334427Z"
    },
    "papermill": {
     "duration": 0.034631,
     "end_time": "2022-09-28T16:59:39.338681",
     "exception": false,
     "start_time": "2022-09-28T16:59:39.304050",
     "status": "completed"
    },
    "tags": []
   },
   "outputs": [
    {
     "data": {
      "text/html": [
       "<div>\n",
       "<style scoped>\n",
       "    .dataframe tbody tr th:only-of-type {\n",
       "        vertical-align: middle;\n",
       "    }\n",
       "\n",
       "    .dataframe tbody tr th {\n",
       "        vertical-align: top;\n",
       "    }\n",
       "\n",
       "    .dataframe thead th {\n",
       "        text-align: right;\n",
       "    }\n",
       "</style>\n",
       "<table border=\"1\" class=\"dataframe\">\n",
       "  <thead>\n",
       "    <tr style=\"text-align: right;\">\n",
       "      <th></th>\n",
       "      <th>Accuracy</th>\n",
       "      <th>Precision</th>\n",
       "      <th>F1-score</th>\n",
       "    </tr>\n",
       "  </thead>\n",
       "  <tbody>\n",
       "    <tr>\n",
       "      <th>Logistic Regression (LR)</th>\n",
       "      <td>0.0</td>\n",
       "      <td>0.0</td>\n",
       "      <td>0.0</td>\n",
       "    </tr>\n",
       "    <tr>\n",
       "      <th>Decision Tree Classifier (DT)</th>\n",
       "      <td>0.0</td>\n",
       "      <td>0.0</td>\n",
       "      <td>0.0</td>\n",
       "    </tr>\n",
       "    <tr>\n",
       "      <th>Random Forest Classifier (RF)</th>\n",
       "      <td>0.0</td>\n",
       "      <td>0.0</td>\n",
       "      <td>0.0</td>\n",
       "    </tr>\n",
       "    <tr>\n",
       "      <th>Support Vector Machine (SVM)</th>\n",
       "      <td>0.0</td>\n",
       "      <td>0.0</td>\n",
       "      <td>0.0</td>\n",
       "    </tr>\n",
       "    <tr>\n",
       "      <th>K Nearest Neighbours (KNN)</th>\n",
       "      <td>0.0</td>\n",
       "      <td>0.0</td>\n",
       "      <td>0.0</td>\n",
       "    </tr>\n",
       "  </tbody>\n",
       "</table>\n",
       "</div>"
      ],
      "text/plain": [
       "                               Accuracy  Precision  F1-score\n",
       "Logistic Regression (LR)            0.0        0.0       0.0\n",
       "Decision Tree Classifier (DT)       0.0        0.0       0.0\n",
       "Random Forest Classifier (RF)       0.0        0.0       0.0\n",
       "Support Vector Machine (SVM)        0.0        0.0       0.0\n",
       "K Nearest Neighbours (KNN)          0.0        0.0       0.0"
      ]
     },
     "execution_count": 18,
     "metadata": {},
     "output_type": "execute_result"
    }
   ],
   "source": [
    "# Let us create first create a table to store the results of various models \n",
    "\n",
    "Evaluation_Results = pd.DataFrame(np.zeros((5,3)), columns=['Accuracy', 'Precision', 'F1-score'])\n",
    "Evaluation_Results.index=['Logistic Regression (LR)','Decision Tree Classifier (DT)','Random Forest Classifier (RF)',\n",
    "                         'Support Vector Machine (SVM)','K Nearest Neighbours (KNN)']\n",
    "Evaluation_Results"
   ]
  },
  {
   "cell_type": "code",
   "execution_count": 19,
   "id": "82705385",
   "metadata": {
    "execution": {
     "iopub.execute_input": "2022-09-28T16:59:39.371193Z",
     "iopub.status.busy": "2022-09-28T16:59:39.370095Z",
     "iopub.status.idle": "2022-09-28T16:59:39.380951Z",
     "shell.execute_reply": "2022-09-28T16:59:39.379678Z"
    },
    "papermill": {
     "duration": 0.030146,
     "end_time": "2022-09-28T16:59:39.383747",
     "exception": false,
     "start_time": "2022-09-28T16:59:39.353601",
     "status": "completed"
    },
    "tags": []
   },
   "outputs": [],
   "source": [
    "def Classification_Summary(pred,pred_prob,i):\n",
    "    Evaluation_Results.iloc[i]['Accuracy']=round(accuracy_score(y_test, pred),3)*100   \n",
    "    Evaluation_Results.iloc[i]['Precision']=round(precision_score(y_test, pred, average='weighted'),3)*100 \n",
    "    Evaluation_Results.iloc[i]['F1-score']=round(f1_score(y_test, pred, average='weighted'),3)*100 \n",
    "    \n",
    "    print('{}{}\\033[1m Evaluating {} \\033[0m{}{}\\n'.format('<'*2,'-'*15,Evaluation_Results.index[i], '-'*15,'>'*2))\n",
    "    \n",
    "    print('Accuracy = {}%'.format(round(accuracy_score(y_test, pred),3)*100))\n",
    "    print('Precision = {}%'.format(round(precision_score(y_test, pred, average='weighted'),3)*100))\n",
    "    print('F1 Score = {}%'.format(round(f1_score(y_test, pred, average='weighted'),3)*100))\n",
    "    \n",
    "    print('\\n \\033[1m <-- Confusiton Matrix --> \\033[0m\\n', confusion_matrix(y_test, pred))\n",
    "    print('\\n \\033[1m <-- Classification Report -->\\033[0m\\n', classification_report(y_test, pred))"
   ]
  },
  {
   "cell_type": "markdown",
   "id": "67726931",
   "metadata": {
    "papermill": {
     "duration": 0.014579,
     "end_time": "2022-09-28T16:59:39.412890",
     "exception": false,
     "start_time": "2022-09-28T16:59:39.398311",
     "status": "completed"
    },
    "tags": []
   },
   "source": [
    "## I. Logistic Regression"
   ]
  },
  {
   "cell_type": "code",
   "execution_count": 20,
   "id": "a956d968",
   "metadata": {
    "execution": {
     "iopub.execute_input": "2022-09-28T16:59:39.444392Z",
     "iopub.status.busy": "2022-09-28T16:59:39.443501Z",
     "iopub.status.idle": "2022-09-28T16:59:47.245800Z",
     "shell.execute_reply": "2022-09-28T16:59:47.243232Z"
    },
    "papermill": {
     "duration": 7.822232,
     "end_time": "2022-09-28T16:59:47.249490",
     "exception": false,
     "start_time": "2022-09-28T16:59:39.427258",
     "status": "completed"
    },
    "tags": []
   },
   "outputs": [
    {
     "name": "stdout",
     "output_type": "stream",
     "text": [
      "<<---------------\u001b[1m Evaluating Logistic Regression (LR) \u001b[0m--------------->>\n",
      "\n",
      "Accuracy = 94.89999999999999%\n",
      "Precision = 94.89999999999999%\n",
      "F1 Score = 94.89999999999999%\n",
      "\n",
      " \u001b[1m <-- Confusiton Matrix --> \u001b[0m\n",
      " [[34  0  1  0  0  0]\n",
      " [ 3 36  0  0  0  0]\n",
      " [ 0  1 36  2  0  0]\n",
      " [ 0  0  0 35  2  0]\n",
      " [ 0  0  0  1 39  2]\n",
      " [ 0  0  0  0  0 42]]\n",
      "\n",
      " \u001b[1m <-- Classification Report -->\u001b[0m\n",
      "               precision    recall  f1-score   support\n",
      "\n",
      "           0       0.92      0.97      0.94        35\n",
      "           1       0.97      0.92      0.95        39\n",
      "           2       0.97      0.92      0.95        39\n",
      "           3       0.92      0.95      0.93        37\n",
      "           4       0.95      0.93      0.94        42\n",
      "           5       0.95      1.00      0.98        42\n",
      "\n",
      "    accuracy                           0.95       234\n",
      "   macro avg       0.95      0.95      0.95       234\n",
      "weighted avg       0.95      0.95      0.95       234\n",
      "\n"
     ]
    }
   ],
   "source": [
    "LR_model = LogisticRegression()\n",
    "\n",
    "space = {'C': loguniform(1e-5, 100)}\n",
    "\n",
    "RCV = RandomizedSearchCV(LR_model, space, n_iter=50)\n",
    "\n",
    "LR = RCV.fit(x_train_scale, y_train).best_estimator_\n",
    "\n",
    "pred = LR.predict(x_test_scale)\n",
    "pred_prob = LR.predict_proba(x_test_scale)\n",
    "\n",
    "Classification_Summary(pred, pred_prob, 0)"
   ]
  },
  {
   "cell_type": "markdown",
   "id": "435345c3",
   "metadata": {
    "papermill": {
     "duration": 0.014144,
     "end_time": "2022-09-28T16:59:47.279013",
     "exception": false,
     "start_time": "2022-09-28T16:59:47.264869",
     "status": "completed"
    },
    "tags": []
   },
   "source": [
    "## II. Decision Tree"
   ]
  },
  {
   "cell_type": "code",
   "execution_count": 21,
   "id": "07b89772",
   "metadata": {
    "execution": {
     "iopub.execute_input": "2022-09-28T16:59:47.310481Z",
     "iopub.status.busy": "2022-09-28T16:59:47.309118Z",
     "iopub.status.idle": "2022-09-28T16:59:47.388911Z",
     "shell.execute_reply": "2022-09-28T16:59:47.386396Z"
    },
    "papermill": {
     "duration": 0.098726,
     "end_time": "2022-09-28T16:59:47.391709",
     "exception": false,
     "start_time": "2022-09-28T16:59:47.292983",
     "status": "completed"
    },
    "tags": []
   },
   "outputs": [
    {
     "name": "stdout",
     "output_type": "stream",
     "text": [
      "<<---------------\u001b[1m Evaluating Decision Tree Classifier (DT) \u001b[0m--------------->>\n",
      "\n",
      "Accuracy = 93.60000000000001%\n",
      "Precision = 93.60000000000001%\n",
      "F1 Score = 93.60000000000001%\n",
      "\n",
      " \u001b[1m <-- Confusiton Matrix --> \u001b[0m\n",
      " [[35  0  0  0  0  0]\n",
      " [ 0 39  0  0  0  0]\n",
      " [ 0  1 36  2  0  0]\n",
      " [ 0  0  0 34  3  0]\n",
      " [ 0  0  1  2 35  4]\n",
      " [ 0  0  0  0  2 40]]\n",
      "\n",
      " \u001b[1m <-- Classification Report -->\u001b[0m\n",
      "               precision    recall  f1-score   support\n",
      "\n",
      "           0       1.00      1.00      1.00        35\n",
      "           1       0.97      1.00      0.99        39\n",
      "           2       0.97      0.92      0.95        39\n",
      "           3       0.89      0.92      0.91        37\n",
      "           4       0.88      0.83      0.85        42\n",
      "           5       0.91      0.95      0.93        42\n",
      "\n",
      "    accuracy                           0.94       234\n",
      "   macro avg       0.94      0.94      0.94       234\n",
      "weighted avg       0.94      0.94      0.94       234\n",
      "\n"
     ]
    }
   ],
   "source": [
    "# Building Decision Tree Classifier\n",
    "\n",
    "DT_model = DecisionTreeClassifier()\n",
    "\n",
    "space = {\"max_depth\": [3, None], \"criterion\": [\"entropy\"]}\n",
    "\n",
    "RCV = RandomizedSearchCV(DT_model, space, n_iter=50)\n",
    "\n",
    "DT = RCV.fit(x_train_scale, y_train).best_estimator_\n",
    "\n",
    "pred = DT.predict(x_test_scale)\n",
    "pred_prob = DT.predict_proba(x_test_scale)\n",
    "\n",
    "Classification_Summary(pred,pred_prob,1)"
   ]
  },
  {
   "cell_type": "markdown",
   "id": "7d0bd2c8",
   "metadata": {
    "papermill": {
     "duration": 0.014295,
     "end_time": "2022-09-28T16:59:47.420491",
     "exception": false,
     "start_time": "2022-09-28T16:59:47.406196",
     "status": "completed"
    },
    "tags": []
   },
   "source": [
    "## III. Random Forest"
   ]
  },
  {
   "cell_type": "code",
   "execution_count": 22,
   "id": "72832cd8",
   "metadata": {
    "execution": {
     "iopub.execute_input": "2022-09-28T16:59:47.454162Z",
     "iopub.status.busy": "2022-09-28T16:59:47.453844Z",
     "iopub.status.idle": "2022-09-28T17:00:03.067076Z",
     "shell.execute_reply": "2022-09-28T17:00:03.064103Z"
    },
    "papermill": {
     "duration": 15.636497,
     "end_time": "2022-09-28T17:00:03.071331",
     "exception": false,
     "start_time": "2022-09-28T16:59:47.434834",
     "status": "completed"
    },
    "tags": []
   },
   "outputs": [
    {
     "name": "stdout",
     "output_type": "stream",
     "text": [
      "<<---------------\u001b[1m Evaluating Random Forest Classifier (RF) \u001b[0m--------------->>\n",
      "\n",
      "Accuracy = 95.3%\n",
      "Precision = 95.5%\n",
      "F1 Score = 95.3%\n",
      "\n",
      " \u001b[1m <-- Confusiton Matrix --> \u001b[0m\n",
      " [[35  0  0  0  0  0]\n",
      " [ 0 39  0  0  0  0]\n",
      " [ 0  1 37  1  0  0]\n",
      " [ 0  0  0 34  3  0]\n",
      " [ 0  0  0  2 39  1]\n",
      " [ 0  0  0  0  3 39]]\n",
      "\n",
      " \u001b[1m <-- Classification Report -->\u001b[0m\n",
      "               precision    recall  f1-score   support\n",
      "\n",
      "           0       1.00      1.00      1.00        35\n",
      "           1       0.97      1.00      0.99        39\n",
      "           2       1.00      0.95      0.97        39\n",
      "           3       0.92      0.92      0.92        37\n",
      "           4       0.87      0.93      0.90        42\n",
      "           5       0.97      0.93      0.95        42\n",
      "\n",
      "    accuracy                           0.95       234\n",
      "   macro avg       0.96      0.95      0.95       234\n",
      "weighted avg       0.95      0.95      0.95       234\n",
      "\n"
     ]
    }
   ],
   "source": [
    "# Building Random-Forest Classifier\n",
    "\n",
    "RF_model = RandomForestClassifier()\n",
    "\n",
    "space = {'bootstrap': [True, False], 'max_depth': [10, 20, 50, None], 'max_features': ['auto', 'sqrt']}\n",
    "\n",
    "RCV = RandomizedSearchCV(RF_model, space, n_iter=50, scoring='f1_weighted')\n",
    "\n",
    "RF = RCV.fit(x_train_scale, y_train).best_estimator_\n",
    "\n",
    "pred = RF.predict(x_test_scale)\n",
    "pred_prob = RF.predict_proba(x_test_scale)\n",
    "\n",
    "Classification_Summary(pred, pred_prob, 2)"
   ]
  },
  {
   "cell_type": "markdown",
   "id": "8cc93fab",
   "metadata": {
    "papermill": {
     "duration": 0.014088,
     "end_time": "2022-09-28T17:00:03.101036",
     "exception": false,
     "start_time": "2022-09-28T17:00:03.086948",
     "status": "completed"
    },
    "tags": []
   },
   "source": [
    "## IV. Support Vector Machine (SVM)"
   ]
  },
  {
   "cell_type": "code",
   "execution_count": 23,
   "id": "69c018c4",
   "metadata": {
    "execution": {
     "iopub.execute_input": "2022-09-28T17:00:03.133500Z",
     "iopub.status.busy": "2022-09-28T17:00:03.132212Z",
     "iopub.status.idle": "2022-09-28T17:00:34.547014Z",
     "shell.execute_reply": "2022-09-28T17:00:34.545664Z"
    },
    "papermill": {
     "duration": 31.449201,
     "end_time": "2022-09-28T17:00:34.565005",
     "exception": false,
     "start_time": "2022-09-28T17:00:03.115804",
     "status": "completed"
    },
    "tags": []
   },
   "outputs": [
    {
     "name": "stdout",
     "output_type": "stream",
     "text": [
      "<<---------------\u001b[1m Evaluating Support Vector Machine (SVM) \u001b[0m--------------->>\n",
      "\n",
      "Accuracy = 94.0%\n",
      "Precision = 94.19999999999999%\n",
      "F1 Score = 94.0%\n",
      "\n",
      " \u001b[1m <-- Confusiton Matrix --> \u001b[0m\n",
      " [[33  1  1  0  0  0]\n",
      " [ 2 37  0  0  0  0]\n",
      " [ 0  1 35  3  0  0]\n",
      " [ 0  0  0 35  2  0]\n",
      " [ 0  0  0  0 41  1]\n",
      " [ 0  0  0  0  3 39]]\n",
      "\n",
      " \u001b[1m <-- Classification Report -->\u001b[0m\n",
      "               precision    recall  f1-score   support\n",
      "\n",
      "           0       0.94      0.94      0.94        35\n",
      "           1       0.95      0.95      0.95        39\n",
      "           2       0.97      0.90      0.93        39\n",
      "           3       0.92      0.95      0.93        37\n",
      "           4       0.89      0.98      0.93        42\n",
      "           5       0.97      0.93      0.95        42\n",
      "\n",
      "    accuracy                           0.94       234\n",
      "   macro avg       0.94      0.94      0.94       234\n",
      "weighted avg       0.94      0.94      0.94       234\n",
      "\n"
     ]
    }
   ],
   "source": [
    "# Building Support Vector Machine Classifier\n",
    "\n",
    "SVM_model = SVC(probability=True).fit(x_train_scale, y_train)\n",
    "\n",
    "param = {\n",
    "     \"C\": [.01, .1, 1, 5, 10, 100],             \n",
    "     \"gamma\": [.01, .1, 1, 5, 10, 100],\n",
    "     \"kernel\": [\"rbf\"]\n",
    "}\n",
    "\n",
    "RCV = RandomizedSearchCV(SVM_model, param, n_iter=50)\n",
    "\n",
    "SVM = RCV.fit(x_train_scale, y_train).best_estimator_\n",
    "\n",
    "pred = SVM.predict(x_test_scale)\n",
    "pred_prob = SVM.predict_proba(x_test_scale)\n",
    "\n",
    "Classification_Summary(pred, pred_prob,3)"
   ]
  },
  {
   "cell_type": "markdown",
   "id": "213b3f40",
   "metadata": {
    "papermill": {
     "duration": 0.014009,
     "end_time": "2022-09-28T17:00:34.594522",
     "exception": false,
     "start_time": "2022-09-28T17:00:34.580513",
     "status": "completed"
    },
    "tags": []
   },
   "source": [
    "## V. K Nearest Neighbours (KNN)"
   ]
  },
  {
   "cell_type": "code",
   "execution_count": 24,
   "id": "c1cca397",
   "metadata": {
    "execution": {
     "iopub.execute_input": "2022-09-28T17:00:34.624479Z",
     "iopub.status.busy": "2022-09-28T17:00:34.624063Z",
     "iopub.status.idle": "2022-09-28T17:00:37.404288Z",
     "shell.execute_reply": "2022-09-28T17:00:37.401318Z"
    },
    "papermill": {
     "duration": 2.801533,
     "end_time": "2022-09-28T17:00:37.410228",
     "exception": false,
     "start_time": "2022-09-28T17:00:34.608695",
     "status": "completed"
    },
    "tags": []
   },
   "outputs": [
    {
     "name": "stdout",
     "output_type": "stream",
     "text": [
      "<<---------------\u001b[1m Evaluating K Nearest Neighbours (KNN) \u001b[0m--------------->>\n",
      "\n",
      "Accuracy = 95.7%\n",
      "Precision = 95.8%\n",
      "F1 Score = 95.7%\n",
      "\n",
      " \u001b[1m <-- Confusiton Matrix --> \u001b[0m\n",
      " [[34  0  1  0  0  0]\n",
      " [ 0 39  0  0  0  0]\n",
      " [ 0  2 36  1  0  0]\n",
      " [ 0  0  0 36  1  0]\n",
      " [ 0  0  0  1 40  1]\n",
      " [ 0  0  0  0  3 39]]\n",
      "\n",
      " \u001b[1m <-- Classification Report -->\u001b[0m\n",
      "               precision    recall  f1-score   support\n",
      "\n",
      "           0       1.00      0.97      0.99        35\n",
      "           1       0.95      1.00      0.97        39\n",
      "           2       0.97      0.92      0.95        39\n",
      "           3       0.95      0.97      0.96        37\n",
      "           4       0.91      0.95      0.93        42\n",
      "           5       0.97      0.93      0.95        42\n",
      "\n",
      "    accuracy                           0.96       234\n",
      "   macro avg       0.96      0.96      0.96       234\n",
      "weighted avg       0.96      0.96      0.96       234\n",
      "\n"
     ]
    }
   ],
   "source": [
    "# Building K-Neareset Neighbours Classifier\n",
    "\n",
    "KNN_model = KNeighborsClassifier()\n",
    "\n",
    "space = {\n",
    "    \"n_neighbors\": [i for i in range(1,30,5)], \n",
    "    \"weights\": [\"uniform\", \"distance\"], \n",
    "    \"algorithm\": [\"ball_tree\", \"kd_tree\", \"brute\"]\n",
    "}\n",
    "\n",
    "RCV = RandomizedSearchCV(KNN_model, space, n_iter=50)\n",
    "\n",
    "KNN = RCV.fit(x_train_scale, y_train).best_estimator_\n",
    "\n",
    "pred = KNN.predict(x_test_scale)\n",
    "pred_prob = KNN.predict_proba(x_test_scale)\n",
    "\n",
    "Classification_Summary(pred, pred_prob, 4)"
   ]
  },
  {
   "cell_type": "markdown",
   "id": "2b71a6f5",
   "metadata": {
    "papermill": {
     "duration": 0.014511,
     "end_time": "2022-09-28T17:00:37.473264",
     "exception": false,
     "start_time": "2022-09-28T17:00:37.458753",
     "status": "completed"
    },
    "tags": []
   },
   "source": [
    "# 7. Comparison"
   ]
  },
  {
   "cell_type": "code",
   "execution_count": 25,
   "id": "45003953",
   "metadata": {
    "execution": {
     "iopub.execute_input": "2022-09-28T17:00:37.504995Z",
     "iopub.status.busy": "2022-09-28T17:00:37.504619Z",
     "iopub.status.idle": "2022-09-28T17:00:37.931254Z",
     "shell.execute_reply": "2022-09-28T17:00:37.929672Z"
    },
    "papermill": {
     "duration": 0.449146,
     "end_time": "2022-09-28T17:00:37.937076",
     "exception": false,
     "start_time": "2022-09-28T17:00:37.487930",
     "status": "completed"
    },
    "tags": []
   },
   "outputs": [
    {
     "data": {
      "image/png": "[encoded data removed]",
      "text/plain": [
       "<Figure size 864x576 with 2 Axes>"
      ]
     },
     "metadata": {
      "needs_background": "light"
     },
     "output_type": "display_data"
    }
   ],
   "source": [
    "plt.figure(figsize=[12,8])\n",
    "sns.heatmap(Evaluation_Results, annot=True, vmin=85, vmax=100, cmap='Blues', fmt='.1f')\n",
    "\n",
    "plt.show()"
   ]
  },
  {
   "cell_type": "markdown",
   "id": "ba3e8a40",
   "metadata": {
    "papermill": {
     "duration": 0.033874,
     "end_time": "2022-09-28T17:00:38.019219",
     "exception": false,
     "start_time": "2022-09-28T17:00:37.985345",
     "status": "completed"
    },
    "tags": []
   },
   "source": [
    "# 8. Project Outcomes and Conclusion"
   ]
  },
  {
   "cell_type": "markdown",
   "id": "19e55d16",
   "metadata": {
    "papermill": {
     "duration": 0.027535,
     "end_time": "2022-09-28T17:00:38.079088",
     "exception": false,
     "start_time": "2022-09-28T17:00:38.051553",
     "status": "completed"
    },
    "tags": []
   },
   "source": [
    "* The Dataset was quiet small totalling around 500 samples & after preprocessing 0.6% of the datasamples were dropped.\n",
    "* The samples were slightly imbalanced after processing, hence SMOTE Technique was applied on the data to balance the classes, adding 36.6% more samples to the dataset.\n",
    "* Visualising the distribution of data & their relationships, helped us to get some insights on the relationship between the feature-set.\n",
    "* Testing multiple algorithms with fine-tuning hyperparamters gave us some understanding on the model performance for various algorithms on this specific dataset.\n",
    "* Logistic Regression, Random Forest, SVM and KNN performed exceptionally well on the current dataset, considering F1-Score and Precision as the key-metric.\n",
    "* Yet it wise to also consider simpler model like Logistic Regression as it is more generalisable & is computationally less expensive, but comes at the cost of slight misclassifications."
   ]
  }
 ],
 "metadata": {
  "kernelspec": {
   "display_name": "Python 3",
   "language": "python",
   "name": "python3"
  },
  "language_info": {
   "codemirror_mode": {
    "name": "ipython",
    "version": 3
   },
   "file_extension": ".py",
   "mimetype": "text/x-python",
   "name": "python",
   "nbconvert_exporter": "python",
   "pygments_lexer": "ipython3",
   "version": "3.7.12"
  },
  "papermill": {
   "default_parameters": {},
   "duration": 76.984105,
   "end_time": "2022-09-28T17:00:39.231500",
   "environment_variables": {},
   "exception": null,
   "input_path": "__notebook__.ipynb",
   "output_path": "__notebook__.ipynb",
   "parameters": {},
   "start_time": "2022-09-28T16:59:22.247395",
   "version": "2.3.4"
  }
 },
 "nbformat": 4,
 "nbformat_minor": 5
}
